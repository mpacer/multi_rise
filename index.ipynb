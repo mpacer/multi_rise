{
 "cells": [
  {
   "cell_type": "code",
   "execution_count": 1,
   "metadata": {},
   "outputs": [],
   "source": [
    "%reset -f"
   ]
  },
  {
   "cell_type": "code",
   "execution_count": 12,
   "metadata": {},
   "outputs": [],
   "source": [
    "from nbconvert.preprocessors import Preprocessor \n",
    "import nbformat\n",
    "from nbformat import NotebookNode, validate, from_dict\n",
    "from nbformat.v4 import new_notebook, new_code_cell, new_markdown_cell\n",
    "from copy import deepcopy\n",
    "from pprint import pprint\n",
    "import os"
   ]
  },
  {
   "cell_type": "code",
   "execution_count": 17,
   "metadata": {
    "tags": [
     "index"
    ]
   },
   "outputs": [],
   "source": [
    "nb_files = ['./Untitled.ipynb',\n",
    "            './Untitled2.ipynb',\n",
    "            './Untitled3.ipynb']"
   ]
  },
  {
   "cell_type": "code",
   "execution_count": 16,
   "metadata": {},
   "outputs": [],
   "source": [
    "\n",
    "\n",
    "combined_nb = new_notebook()\n",
    "\n",
    "for file in nb_files:\n",
    "    nb = nbformat.read(file, as_version=4)\n",
    "    combined_nb.metadata.merge(nb.metadata)\n",
    "    nb.cells.append(new_code_cell(\"%reset -f\", metadata={\"slideshow\":{\"slide_type\":'slide'}}))\n",
    "    nb.cells.append(new_markdown_cell(\"Execute for Next speaker\", metadata={\"slideshow\":{\"slide_type\":'slide'}}))\n",
    "    for cell in nb.cells:\n",
    "        cell.metadata.origin = file\n",
    "        combined_nb.cells.append(cell)\n",
    "        \n",
    "os.remove(\"combined_notebook.ipynb\")\n",
    "nbformat.write(combined_nb,\"combined_notebook.ipynb\")"
   ]
  },
  {
   "cell_type": "markdown",
   "metadata": {},
   "source": [
    "* Untitled.ipynb\n",
    "* Untitled2.ipynb\n",
    "* Untitled3.ipynb"
   ]
  }
 ],
 "metadata": {
  "celltoolbar": "Tags",
  "kernelspec": {
   "display_name": "Python 3",
   "language": "python",
   "name": "python3"
  },
  "language_info": {
   "codemirror_mode": {
    "name": "ipython",
    "version": 3
   },
   "file_extension": ".py",
   "mimetype": "text/x-python",
   "name": "python",
   "nbconvert_exporter": "python",
   "pygments_lexer": "ipython3",
   "version": "3.6.2"
  }
 },
 "nbformat": 4,
 "nbformat_minor": 2
}

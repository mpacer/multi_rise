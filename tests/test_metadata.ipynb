{
 "cells": [
  {
   "cell_type": "code",
   "execution_count": 1,
   "metadata": {},
   "outputs": [],
   "source": [
    "from nbconvert.preprocessors import Preprocessor \n",
    "import nbformat\n",
    "from nbformat import NotebookNode, validate, from_dict\n",
    "from nbformat.v4 import new_notebook\n",
    "from copy import deepcopy"
   ]
  },
  {
   "cell_type": "code",
   "execution_count": 2,
   "metadata": {},
   "outputs": [],
   "source": [
    "def nb_deepcopy(nb):\n",
    "    return from_dict(nb.dict())\n",
    "        \n",
    "def update_with_prints_on_change(dest_nb, source_nb):\n",
    "    temp_meta = from_dict(deepcopy(dest_nb.metadata))\n",
    "    temp_meta.update(source_nb.metadata.dict())\n",
    "    trigger = False\n",
    "    for key, value in dest_nb.metadata.items():\n",
    "        if value != temp_meta.get(key, None):\n",
    "            print(\"for key: {}; original value: {}, new value: {}\".format(key, value, temp_meta[key]))\n",
    "            trigger = True\n",
    "    if trigger:\n",
    "        raise KeyError(\"Your notebooks had conflicting keys! See the log\")\n",
    "    else: \n",
    "        dest_nb.metadata = temp_meta"
   ]
  },
  {
   "cell_type": "code",
   "execution_count": 3,
   "metadata": {
    "tags": [
     "index"
    ]
   },
   "outputs": [],
   "source": [
    "nb_files = ['meta/Untitled.ipynb',\n",
    "            'meta/Untitled2.ipynb',\n",
    "            'meta/Untitled3.ipynb']"
   ]
  },
  {
   "cell_type": "code",
   "execution_count": 4,
   "metadata": {},
   "outputs": [
    {
     "name": "stdout",
     "output_type": "stream",
     "text": [
      "for key: hello; original value: dumb, new value: you\n"
     ]
    },
    {
     "ename": "KeyError",
     "evalue": "'Your notebooks had conflicting keys! See the log'",
     "output_type": "error",
     "traceback": [
      "\u001b[0;31m---------------------------------------------------------------------------\u001b[0m",
      "\u001b[0;31mKeyError\u001b[0m                                  Traceback (most recent call last)",
      "\u001b[0;32m<ipython-input-4-7ae62ff8ff6f>\u001b[0m in \u001b[0;36m<module>\u001b[0;34m()\u001b[0m\n\u001b[1;32m      5\u001b[0m \u001b[0;32mfor\u001b[0m \u001b[0mfile\u001b[0m \u001b[0;32min\u001b[0m \u001b[0mnb_files\u001b[0m\u001b[0;34m:\u001b[0m\u001b[0;34m\u001b[0m\u001b[0m\n\u001b[1;32m      6\u001b[0m     \u001b[0mnb\u001b[0m \u001b[0;34m=\u001b[0m \u001b[0mnbformat\u001b[0m\u001b[0;34m.\u001b[0m\u001b[0mread\u001b[0m\u001b[0;34m(\u001b[0m\u001b[0mfile\u001b[0m\u001b[0;34m,\u001b[0m \u001b[0mas_version\u001b[0m\u001b[0;34m=\u001b[0m\u001b[0;36m4\u001b[0m\u001b[0;34m)\u001b[0m\u001b[0;34m\u001b[0m\u001b[0m\n\u001b[0;32m----> 7\u001b[0;31m     \u001b[0mupdate_with_prints_on_change\u001b[0m\u001b[0;34m(\u001b[0m\u001b[0mcombined_nb\u001b[0m\u001b[0;34m,\u001b[0m \u001b[0mnb\u001b[0m\u001b[0;34m)\u001b[0m\u001b[0;34m\u001b[0m\u001b[0m\n\u001b[0m\u001b[1;32m      8\u001b[0m     \u001b[0mcurr_index\u001b[0m \u001b[0;34m=\u001b[0m \u001b[0mlen\u001b[0m\u001b[0;34m(\u001b[0m\u001b[0mnb\u001b[0m\u001b[0;34m.\u001b[0m\u001b[0mcells\u001b[0m\u001b[0;34m)\u001b[0m\u001b[0;34m-\u001b[0m\u001b[0;36m1\u001b[0m\u001b[0;34m\u001b[0m\u001b[0m\n\u001b[1;32m      9\u001b[0m     \u001b[0;32mfor\u001b[0m \u001b[0mcell\u001b[0m \u001b[0;32min\u001b[0m \u001b[0mnb\u001b[0m\u001b[0;34m.\u001b[0m\u001b[0mcells\u001b[0m\u001b[0;34m:\u001b[0m\u001b[0;34m\u001b[0m\u001b[0m\n",
      "\u001b[0;32m<ipython-input-2-03256bd54c17>\u001b[0m in \u001b[0;36mupdate_with_prints_on_change\u001b[0;34m(dest_nb, source_nb)\u001b[0m\n\u001b[1;32m     11\u001b[0m             \u001b[0mtrigger\u001b[0m \u001b[0;34m=\u001b[0m \u001b[0;32mTrue\u001b[0m\u001b[0;34m\u001b[0m\u001b[0m\n\u001b[1;32m     12\u001b[0m     \u001b[0;32mif\u001b[0m \u001b[0mtrigger\u001b[0m\u001b[0;34m:\u001b[0m\u001b[0;34m\u001b[0m\u001b[0m\n\u001b[0;32m---> 13\u001b[0;31m         \u001b[0;32mraise\u001b[0m \u001b[0mKeyError\u001b[0m\u001b[0;34m(\u001b[0m\u001b[0;34m\"Your notebooks had conflicting keys! See the log\"\u001b[0m\u001b[0;34m)\u001b[0m\u001b[0;34m\u001b[0m\u001b[0m\n\u001b[0m\u001b[1;32m     14\u001b[0m     \u001b[0;32melse\u001b[0m\u001b[0;34m:\u001b[0m\u001b[0;34m\u001b[0m\u001b[0m\n\u001b[1;32m     15\u001b[0m         \u001b[0mdest_nb\u001b[0m\u001b[0;34m.\u001b[0m\u001b[0mmetadata\u001b[0m \u001b[0;34m=\u001b[0m \u001b[0mtemp_meta\u001b[0m\u001b[0;34m\u001b[0m\u001b[0m\n",
      "\u001b[0;31mKeyError\u001b[0m: 'Your notebooks had conflicting keys! See the log'"
     ]
    }
   ],
   "source": [
    "# should raise KeyError \"Your notebooks had conflicting keys! See the log\n",
    "combined_nb = new_notebook()\n",
    "\n",
    "for file in nb_files:\n",
    "    nb = nbformat.read(file, as_version=4)\n",
    "    update_with_prints_on_change(combined_nb, nb)\n",
    "    curr_index = len(nb.cells)-1\n",
    "    for cell in nb.cells:\n",
    "        cell.metadata.origin = file\n",
    "        combined_nb.cells.append(cell)"
   ]
  }
 ],
 "metadata": {
  "celltoolbar": "Tags",
  "kernelspec": {
   "display_name": "Python 3",
   "language": "python",
   "name": "python3"
  },
  "language_info": {
   "codemirror_mode": {
    "name": "ipython",
    "version": 3
   },
   "file_extension": ".py",
   "mimetype": "text/x-python",
   "name": "python",
   "nbconvert_exporter": "python",
   "pygments_lexer": "ipython3",
   "version": "3.6.2"
  }
 },
 "nbformat": 4,
 "nbformat_minor": 2
}
